{
 "cells": [
  {
   "metadata": {},
   "cell_type": "markdown",
   "source": "# Connect to local MongoDB instance (running via Docker) and install the libraries\n",
   "id": "e475da2b1b0ebc99"
  },
  {
   "metadata": {},
   "cell_type": "code",
   "source": [
    "!pip install  pandas as pd\n",
    "!pip install tabulate"
   ],
   "id": "3e3833046dda71db",
   "outputs": [],
   "execution_count": null
  },
  {
   "metadata": {
    "ExecuteTime": {
     "end_time": "2025-04-05T12:15:06.072455Z",
     "start_time": "2025-04-05T12:15:06.043702Z"
    }
   },
   "cell_type": "code",
   "source": [
    "import pandas as pd\n",
    "from pymongo import MongoClient\n",
    "\n",
    "client = MongoClient(\"mongodb://localhost:27017/\")\n",
    "\n",
    "try:\n",
    "    client.admin.command(\"ping\")\n",
    "    print(\" Connected Successfully\")\n",
    "except Exception as e:\n",
    "    print(\"Failed to Connect\", e)\n",
    "\n",
    "# Λίστα βάσεων δεδομένων\n",
    "print(client.list_database_names())\n",
    "\n"
   ],
   "id": "6f3d4685b066e31f",
   "outputs": [
    {
     "name": "stdout",
     "output_type": "stream",
     "text": [
      " Connected Successfully\n",
      "['admin', 'config', 'lab', 'local']\n"
     ]
    }
   ],
   "execution_count": 51
  },
  {
   "metadata": {},
   "cell_type": "markdown",
   "source": "# Select database and collection\n",
   "id": "d62313e147b5f64e"
  },
  {
   "metadata": {
    "ExecuteTime": {
     "end_time": "2025-04-05T12:15:07.585693Z",
     "start_time": "2025-04-05T12:15:07.577599Z"
    }
   },
   "cell_type": "code",
   "source": [
    "db = client[\"lab\"]\n",
    "collection = db[\"restaurants\"]"
   ],
   "id": "acba1a0e74b9a98",
   "outputs": [],
   "execution_count": 52
  },
  {
   "metadata": {
    "ExecuteTime": {
     "end_time": "2025-04-05T12:15:10.168106Z",
     "start_time": "2025-04-05T12:15:10.164321Z"
    }
   },
   "cell_type": "code",
   "source": [
    "pd.set_option(\"display.max_colwidth\", None)\n",
    "pd.set_option(\"display.width\", 1000)\n",
    "pd.set_option(\"display.max_columns\", None)\n",
    "\n",
    "\n"
   ],
   "id": "81ae2ec580745954",
   "outputs": [],
   "execution_count": 53
  },
  {
   "metadata": {},
   "cell_type": "markdown",
   "source": [
    "## Question 1:\n",
    "### Top 5 vegan-friendly breakfast restaurants in Athens with more than 100 reviews (by avg_rating)"
   ],
   "id": "1f2b226eb9ce60fd"
  },
  {
   "metadata": {
    "ExecuteTime": {
     "end_time": "2025-04-05T12:15:21.306567Z",
     "start_time": "2025-04-05T12:15:11.614171Z"
    }
   },
   "cell_type": "code",
   "source": [
    "pipeline_1 = [\n",
    "    {\"$match\": {\n",
    "        \"city\": \"Athens\",\n",
    "        \"vegan_options\": \"Y\",\n",
    "        \"meals\": {\"$in\": [\"Breakfast\"]},\n",
    "        \"total_reviews_count\": {\"$gt\": 100}\n",
    "    }},\n",
    "    {\"$sort\": {\"avg_rating\": -1, \"total_reviews_count\": -1}},\n",
    "    {\"$project\": {\n",
    "        \"_id\": 0,\n",
    "        \"restaurant_name\": 1,\n",
    "        \"address\": 1,\n",
    "        \"avg_rating\": 1,\n",
    "        \"total_reviews_count\": 1\n",
    "    }},\n",
    "    {\"$limit\": 5}\n",
    "]\n",
    "results_1 = list(collection.aggregate(pipeline_1))\n",
    "df1 = pd.DataFrame(results_1)\n",
    "print(\"\\n Top 5 Vegan Breakfast Restaurants in Athens\\n\")\n",
    "print(df1.to_markdown(index=False))\n",
    "\n",
    "\n"
   ],
   "id": "8bfbdca139dc7d28",
   "outputs": [
    {
     "name": "stdout",
     "output_type": "stream",
     "text": [
      "\n",
      " Top 5 Vegan Breakfast Restaurants in Athens\n",
      "\n",
      "| restaurant_name   | address                                             |   avg_rating |   total_reviews_count |\n",
      "|:------------------|:----------------------------------------------------|-------------:|----------------------:|\n",
      "| Vegan Beat        | Perikleous 56 Ground floor, Athens 10560 Greece     |            5 |                   754 |\n",
      "| Victory Cafe      | Fillelinon 22, Athens 10557 Greece                  |            5 |                   562 |\n",
      "| Montakioy         | Stadiou 30 Stoa Korai, Athens 10564 Greece          |            5 |                   208 |\n",
      "| Coffee Joint      | Vourvachi 5-9 Iosif ton Rogon, Athens 117 43 Greece |            5 |                   184 |\n",
      "| Candy Cat         | Persefonis 59, Athens 11854 Greece                  |            5 |                   113 |\n"
     ]
    }
   ],
   "execution_count": 54
  },
  {
   "metadata": {},
   "cell_type": "markdown",
   "source": [
    "###  Question 2: Top 10 Popular Cuisines in Vegan Restaurants in Athens\n",
    "\n",
    "Identify the **10 most popular cuisine types** (field: `cuisines`) in **Athens** that are offered by restaurants with **vegan options**.\n",
    "\n",
    "For each cuisine type, display:\n",
    "- the **name of the cuisine**\n",
    "- the **number of restaurants** offering it\n",
    "- the **average number of total reviews** for those restaurants\n",
    "\n",
    "Sort the results by **popularity** (number of restaurants offering each cuisine) in **descending order**.\n"
   ],
   "id": "92c08685ccea40b"
  },
  {
   "metadata": {
    "ExecuteTime": {
     "end_time": "2025-04-05T12:15:21.905227Z",
     "start_time": "2025-04-05T12:15:21.310183Z"
    }
   },
   "cell_type": "code",
   "source": [
    "pipeline_2 = [\n",
    "    {\"$match\": {\n",
    "        \"city\": \"Athens\",\n",
    "        \"vegan_options\": \"Y\"\n",
    "    }},\n",
    "    {\"$unwind\": \"$cuisines\"},\n",
    "    {\"$group\": {\n",
    "        \"_id\": \"$cuisines\",\n",
    "        \"restaurant_count\": {\"$sum\": 1},\n",
    "        \"avg_reviews\": {\"$avg\": \"$total_reviews_count\"}\n",
    "    }},\n",
    "    {\"$sort\": {\"restaurant_count\": -1}},\n",
    "    {\"$limit\": 10},\n",
    "    {\"$project\": {\n",
    "        \"_id\": 0,\n",
    "        \"cuisine\": \"$_id\",\n",
    "        \"restaurant_count\": 1,\n",
    "        \"avg_reviews\": {\"$round\": [\"$avg_reviews\", 1]}\n",
    "    }}\n",
    "]\n",
    "results_2 = list(collection.aggregate(pipeline_2))\n",
    "df2 = pd.DataFrame(results_2)\n",
    "print(\"\\nTop 10 Popular Cuisines in Vegan Restaurants in Athens\\n\")\n",
    "print(df2.to_markdown(index=False))"
   ],
   "id": "3d7c2cdfb717afe6",
   "outputs": [
    {
     "name": "stdout",
     "output_type": "stream",
     "text": [
      "\n",
      "Top 10 Popular Cuisines in Vegan Restaurants in Athens\n",
      "\n",
      "|   restaurant_count | cuisine       |   avg_reviews |\n",
      "|-------------------:|:--------------|--------------:|\n",
      "|                361 | Greek         |         433.1 |\n",
      "|                349 | Mediterranean |         407.2 |\n",
      "|                186 | European      |         416.4 |\n",
      "|                 96 | Cafe          |         204.5 |\n",
      "|                 59 | Healthy       |         674.4 |\n",
      "|                 43 | Asian         |         278.9 |\n",
      "|                 41 | Italian       |         197.7 |\n",
      "|                 37 | Fast food     |         173.8 |\n",
      "|                 36 | Bar           |         288.1 |\n",
      "|                 34 | Seafood       |         431.9 |\n"
     ]
    }
   ],
   "execution_count": 55
  },
  {
   "metadata": {},
   "cell_type": "markdown",
   "source": [
    "###  Question 3: Top 5 Cities Outside Greece Offering Greek Cuisine\n",
    "\n",
    "Find the **top 5 cities outside of Greece** with the **highest number of restaurants** that serve **Greek cuisine**.\n",
    "\n",
    "For each city, display:\n",
    "- the **name of the city**\n",
    "- the **number of restaurants** offering Greek cuisine in that city\n",
    "\n",
    "Sort the results in **descending order** based on the number of restaurants."
   ],
   "id": "9cdc9fbb5752aaf8"
  },
  {
   "metadata": {
    "ExecuteTime": {
     "end_time": "2025-04-05T12:15:22.750257Z",
     "start_time": "2025-04-05T12:15:21.923827Z"
    }
   },
   "cell_type": "code",
   "source": [
    "pipeline_3 = [\n",
    "    {\"$match\": {\n",
    "        \"cuisines\": \"Greek\",\n",
    "        \"country\": {\"$ne\": \"Greece\"},\n",
    "        \"city\": {\"$ne\": None}\n",
    "    }},\n",
    "    {\"$group\": {\n",
    "        \"_id\": \"$city\",\n",
    "        \"restaurant_count\": {\"$sum\": 1}\n",
    "    }},\n",
    "    {\"$sort\": {\"restaurant_count\": -1}},\n",
    "    {\"$limit\": 5},\n",
    "    {\"$project\": {\n",
    "        \"_id\": 0,\n",
    "        \"city\": \"$_id\",\n",
    "        \"restaurant_count\": 1\n",
    "    }}\n",
    "]\n",
    "results_3 = list(collection.aggregate(pipeline_3))\n",
    "df3 = pd.DataFrame(results_3)\n",
    "print(\"\\n### Question 3: Top 5 Cities Outside Greece with Greek Cuisine\\n\")\n",
    "print(df3.to_markdown(index=False))"
   ],
   "id": "ad1aa66e315b5fe7",
   "outputs": [
    {
     "name": "stdout",
     "output_type": "stream",
     "text": [
      "\n",
      "### Question 3: Top 5 Cities Outside Greece with Greek Cuisine\n",
      "\n",
      "|   restaurant_count | city       |\n",
      "|-------------------:|:-----------|\n",
      "|                119 | Munich     |\n",
      "|                105 | Paris      |\n",
      "|                 71 | Nuremberg  |\n",
      "|                 65 | Dusseldorf |\n",
      "|                 64 | Vienna     |\n"
     ]
    }
   ],
   "execution_count": 56
  },
  {
   "metadata": {},
   "cell_type": "markdown",
   "source": [
    "### Question 4: City with the Most High-Rated Restaurants\n",
    "\n",
    "Find the **city** (regardless of country) with the **highest number of restaurants** that meet the following criteria:\n",
    "- **Average rating** (`avg_rating`) greater than **4.5**\n",
    "- **Total number of reviews** (`total_reviews_count`) greater than **1000**\n",
    "\n",
    "For the result, display:\n",
    "- the **name of the city**\n",
    "- the **number of restaurants** that meet the criteria\n",
    "\n",
    "Sort the cities in **descending order** and return only the **top 1**.\n"
   ],
   "id": "4e007e0e2c77dffb"
  },
  {
   "metadata": {
    "ExecuteTime": {
     "end_time": "2025-04-05T12:15:30.716117Z",
     "start_time": "2025-04-05T12:15:30.095993Z"
    }
   },
   "cell_type": "code",
   "source": [
    "pipeline_4 = [\n",
    "    {\"$match\": {\n",
    "        \"avg_rating\": {\"$gt\": 4.5},\n",
    "        \"total_reviews_count\": {\"$gt\": 1000},\n",
    "        \"city\": {\"$ne\": None}\n",
    "    }},\n",
    "    {\"$group\": {\n",
    "        \"_id\": \"$city\",\n",
    "        \"restaurant_count\": {\"$sum\": 1}\n",
    "    }},\n",
    "    {\"$sort\": {\"restaurant_count\": -1}},\n",
    "    {\"$limit\": 1},\n",
    "    {\"$project\": {\n",
    "        \"_id\": 0,\n",
    "        \"city\": \"$_id\",\n",
    "        \"restaurant_count\": 1\n",
    "    }}\n",
    "]\n",
    "results_4 = list(collection.aggregate(pipeline_4))\n",
    "df4 = pd.DataFrame(results_4)\n",
    "print(\"\\n City with Most High-Rated Restaurants\\n\")\n",
    "print(df4.to_markdown(index=False))\n"
   ],
   "id": "81a73991ae731620",
   "outputs": [
    {
     "name": "stdout",
     "output_type": "stream",
     "text": [
      "\n",
      " City with Most High-Rated Restaurants\n",
      "\n",
      "|   restaurant_count | city   |\n",
      "|-------------------:|:-------|\n",
      "|                 10 | Rome   |\n"
     ]
    }
   ],
   "execution_count": 59
  },
  {
   "metadata": {},
   "cell_type": "markdown",
   "source": [
    "###  Question 5: Greek Regions with High-Rated Restaurants\n",
    "\n",
    "Display all **regions in Greece** (field: `region`) along with the **number of restaurants** in each region that have:\n",
    "- an **average rating** (`avg_rating`) greater than **4.5**\n",
    "\n",
    "For each region, display:\n",
    "- the **name of the region**\n",
    "- the **number of restaurants** that meet the criteria\n",
    "\n",
    "Sort the regions in **descending order** based on the number of qualifying restaurants.\n"
   ],
   "id": "a38f25ee8d0da04b"
  },
  {
   "metadata": {
    "ExecuteTime": {
     "end_time": "2025-04-05T12:15:33.440452Z",
     "start_time": "2025-04-05T12:15:32.866532Z"
    }
   },
   "cell_type": "code",
   "source": [
    "pipeline_5 = [\n",
    "    {\"$match\": {\n",
    "        \"country\": \"Greece\",\n",
    "        \"avg_rating\": {\"$gt\": 4.5},\n",
    "        \"region\": {\"$ne\": None}\n",
    "    }},\n",
    "    {\"$group\": {\n",
    "        \"_id\": \"$region\",\n",
    "        \"restaurant_count\": {\"$sum\": 1}\n",
    "    }},\n",
    "    {\"$sort\": {\"restaurant_count\": -1}},\n",
    "    {\"$project\": {\n",
    "        \"_id\": 0,\n",
    "        \"region\": \"$_id\",\n",
    "        \"restaurant_count\": 1\n",
    "    }}\n",
    "]\n",
    "results_5 = list(collection.aggregate(pipeline_5))\n",
    "df5 = pd.DataFrame(results_5)\n",
    "print(\"\\nGreek Regions with High-Rated Restaurants (>4.5)\\n\")\n",
    "print(df5.to_markdown(index=False))"
   ],
   "id": "b682b6c365dda4dc",
   "outputs": [
    {
     "name": "stdout",
     "output_type": "stream",
     "text": [
      "\n",
      "Greek Regions with High-Rated Restaurants (>4.5)\n",
      "\n",
      "|   restaurant_count | region                    |\n",
      "|-------------------:|:--------------------------|\n",
      "|               1328 | Attica                    |\n",
      "|               1083 | South Aegean              |\n",
      "|               1067 | Crete                     |\n",
      "|                802 | Central Macedonia         |\n",
      "|                658 | Ionian Islands            |\n",
      "|                476 | Peloponnese               |\n",
      "|                337 | Northeast Aegean Islands  |\n",
      "|                265 | Thessaly                  |\n",
      "|                240 | Central Greece            |\n",
      "|                231 | Epirus                    |\n",
      "|                224 | West Greece               |\n",
      "|                173 | East Macedonia and Thrace |\n",
      "|                 93 | West Macedonia            |\n",
      "|                 53 | Sporades                  |\n"
     ]
    }
   ],
   "execution_count": 60
  },
  {
   "metadata": {},
   "cell_type": "markdown",
   "source": [
    "###  Query Optimization: Using Indexes\n",
    "\n",
    "To improve the performance of the aggregation queries in Question 2 (and similar ones), we can create **appropriate indexes** on fields that are frequently used in filtering stages (`$match`) and have high cardinality.\n",
    "\n",
    "####  Why use indexes?\n",
    "- Queries that filter large collections using non-indexed fields will require scanning **every document** (full collection scan).\n",
    "- By indexing key fields, MongoDB can **quickly locate matching documents**, significantly reducing execution time and resource usage.\n",
    "\n",
    "####  How we optimized the queries:\n",
    "\n",
    "In MongoDB, indexes are crucial for optimizing query performance — especially when dealing with large datasets. Fields that are frequently used in filtering conditions (e.g., in the `$match` stage of an aggregation pipeline) and have **high cardinality** (many unique values) are typically **ideal candidates** for indexing.\n",
    "\n",
    "####  When to Use Indexes\n",
    "\n",
    "Indexes are recommended when:\n",
    "- A field is **frequently queried**, especially in `$match`, `$sort`, or `$group`\n",
    "- The field has **high cardinality** (e.g., `city`, `restaurant_name`) — meaning many unique values\n",
    "- The field is part of **compound filters** (e.g., `{ city: \"Athens\", vegan_options: \"Y\" }`)\n",
    "- You want to improve performance in **read-heavy workloads**\n",
    "####  Drawbacks of Excessive or Improper Indexing\n",
    "\n",
    "-  **Memory Usage**: Indexes consume RAM. Creating too many indexes may lead to increased memory usage, especially on large collections.\n",
    "\n",
    "-  **Slower Writes**: Each `insert`, `update`, or `delete` operation must also update the relevant indexes. This adds overhead and can slow down write-heavy workloads.\n",
    "\n",
    "-  **Maintenance Cost**: Indexes need to be maintained during operations like replication, backups, and migrations. This can increase the complexity and cost of managing the database.\n",
    "\n",
    "-  **Low Benefit on Low-Cardinality Fields**: Indexing fields with very few unique values (e.g., `vegan_options` with only \"Y\" or \"N\") provides minimal performance improvement, and might even waste resources.\n",
    "####  Best Practices for Index Usage\n",
    "\n",
    "-  **Measure before and after**: Always evaluate query performance using `.explain(\"executionStats\")` to justify the index.\n",
    "-  **Use compound indexes carefully**: The **order of fields** in a compound index matters. It should match the order in your query filters.\n",
    "-  **Index selective fields**: Prefer indexing fields that help **filter out a large portion of the dataset**, reducing scan time.\n",
    "-  **Remove unused indexes**: Regularly review and **clean up redundant or unused indexes** to reduce memory usage and maintenance cost.\n",
    "\n",
    "\n"
   ],
   "id": "ed3c6e022588beaf"
  },
  {
   "metadata": {
    "ExecuteTime": {
     "end_time": "2025-04-05T12:15:37.076403Z",
     "start_time": "2025-04-05T12:15:36.433194Z"
    }
   },
   "cell_type": "code",
   "source": [
    "\n",
    "# Run explain on aggregation\n",
    "explain_result = db.command({\n",
    "    \"explain\": {\n",
    "        \"aggregate\": \"restaurants\",\n",
    "        \"pipeline\": pipeline_1,\n",
    "        \"cursor\": {}\n",
    "    },\n",
    "    \"verbosity\": \"executionStats\"\n",
    "})\n",
    "\n",
    "# Print results\n",
    "stats = explain_result[\"executionStats\"]\n",
    "plan = explain_result[\"queryPlanner\"][\"winningPlan\"]\n",
    "print(\"Aggregation Explain\")\n",
    "print(\"Execution Time (ms):\", stats[\"executionTimeMillis\"])\n",
    "print(\"Documents Examined :\", stats[\"totalDocsExamined\"])\n",
    "scan_stage = plan[\"inputStage\"][\"inputStage\"][\"stage\"]\n",
    "print(f\"Scan stage used: {plan[\"inputStage\"][\"inputStage\"][\"stage\"]}\")\n",
    "\n"
   ],
   "id": "1138281514e30486",
   "outputs": [
    {
     "name": "stdout",
     "output_type": "stream",
     "text": [
      "Aggregation Explain\n",
      "Execution Time (ms): 619\n",
      "Documents Examined : 1083397\n",
      "Scan stage used: COLLSCAN\n"
     ]
    }
   ],
   "execution_count": 61
  },
  {
   "metadata": {},
   "cell_type": "markdown",
   "source": [
    "The query performed a full collection scan (`COLLSCAN`), which indicates that **no index was used**. As a result, the execution time is relatively high and MongoDB had to scan over 1 million documents to find the matching results. This clearly shows the need for proper indexing on the filtered fields.\n",
    "\n",
    "Run the next cell and re-run the previous one to see the difference\n",
    "If you want to remove the index at the end run the cell collection.drop_index\n",
    "\n"
   ],
   "id": "e19a02bd5a2fdb85"
  },
  {
   "metadata": {},
   "cell_type": "code",
   "source": "collection.create_index([(\"city\", 1)])",
   "id": "2903e2e34e2a15be",
   "outputs": [],
   "execution_count": null
  },
  {
   "metadata": {},
   "cell_type": "code",
   "source": "collection.drop_index('city_1')\n",
   "id": "17a71255f1751541",
   "outputs": [],
   "execution_count": null
  }
 ],
 "metadata": {
  "kernelspec": {
   "display_name": "Python 3",
   "language": "python",
   "name": "python3"
  },
  "language_info": {
   "codemirror_mode": {
    "name": "ipython",
    "version": 2
   },
   "file_extension": ".py",
   "mimetype": "text/x-python",
   "name": "python",
   "nbconvert_exporter": "python",
   "pygments_lexer": "ipython2",
   "version": "2.7.6"
  }
 },
 "nbformat": 4,
 "nbformat_minor": 5
}
